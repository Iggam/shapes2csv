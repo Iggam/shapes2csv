{
 "cells": [
  {
   "cell_type": "code",
   "execution_count": 1,
   "metadata": {
    "collapsed": true
   },
   "outputs": [],
   "source": [
    "from urllib.request import urlopen, urlretrieve\n",
    "import geopandas as gpd\n",
    "from bs4 import BeautifulSoup\n",
    "import re"
   ]
  },
  {
   "cell_type": "code",
   "execution_count": 2,
   "metadata": {
    "collapsed": true
   },
   "outputs": [],
   "source": [
    "date = '01-07-2017'"
   ]
  },
  {
   "cell_type": "markdown",
   "metadata": {},
   "source": [
    "## urls of shapefiles"
   ]
  },
  {
   "cell_type": "code",
   "execution_count": 3,
   "metadata": {
    "collapsed": true
   },
   "outputs": [],
   "source": [
    "url_hecto = 'https://www.rijkswaterstaat.nl/apps/geoservices/geodata/dmc/nwb-wegen/geogegevens/shapefile/Nederland_totaal/'+date+'/Hectopunten/'\n",
    "url_max_speed = 'https://www.rijkswaterstaat.nl/apps/geoservices/geodata/dmc/weggeg/geogegevens/shapefile/weggeg_wegvakniveau/'+date+'/Maximum%20snelheid/'\n",
    "url_inhaalverboden = 'https://www.rijkswaterstaat.nl/apps/geoservices/geodata/dmc/weggeg/geogegevens/shapefile/weggeg_wegvakniveau/'+date+'/Inhaalverboden/'"
   ]
  },
  {
   "cell_type": "markdown",
   "metadata": {},
   "source": [
    "## function to download shapefiles and open them as geo dataframes"
   ]
  },
  {
   "cell_type": "code",
   "execution_count": 4,
   "metadata": {
    "collapsed": true
   },
   "outputs": [],
   "source": [
    "def get_geodf(url, feature):\n",
    "    website = urlopen(url)\n",
    "    soup = BeautifulSoup(website, 'lxml')\n",
    "    links = soup.find_all('a', attrs={'href': re.compile(feature)})\n",
    "    for link in links:\n",
    "        file = link.get('href')\n",
    "        urlretrieve(url+file, file)\n",
    "    shapefile = feature+'.shp'\n",
    "    geo_df = gpd.read_file(shapefile)\n",
    "    return geo_df"
   ]
  },
  {
   "cell_type": "markdown",
   "metadata": {},
   "source": [
    "## get the hectometer shapefile"
   ]
  },
  {
   "cell_type": "code",
   "execution_count": 5,
   "metadata": {
    "collapsed": false
   },
   "outputs": [
    {
     "data": {
      "text/html": [
       "<div>\n",
       "<table border=\"1\" class=\"dataframe\">\n",
       "  <thead>\n",
       "    <tr style=\"text-align: right;\">\n",
       "      <th></th>\n",
       "      <th>AFSTAND</th>\n",
       "      <th>DVK_LETTER</th>\n",
       "      <th>HECTOMTRNG</th>\n",
       "      <th>WVK_BEGDAT</th>\n",
       "      <th>WVK_ID</th>\n",
       "      <th>ZIJDE</th>\n",
       "      <th>geometry</th>\n",
       "    </tr>\n",
       "  </thead>\n",
       "  <tbody>\n",
       "    <tr>\n",
       "      <th>0</th>\n",
       "      <td>41</td>\n",
       "      <td>None</td>\n",
       "      <td>25</td>\n",
       "      <td>2001-05-01</td>\n",
       "      <td>114183002</td>\n",
       "      <td>None</td>\n",
       "      <td>POINT (57378 391777)</td>\n",
       "    </tr>\n",
       "    <tr>\n",
       "      <th>1</th>\n",
       "      <td>143</td>\n",
       "      <td>None</td>\n",
       "      <td>26</td>\n",
       "      <td>2001-05-01</td>\n",
       "      <td>114183002</td>\n",
       "      <td>None</td>\n",
       "      <td>POINT (57440 391858)</td>\n",
       "    </tr>\n",
       "    <tr>\n",
       "      <th>2</th>\n",
       "      <td>245</td>\n",
       "      <td>None</td>\n",
       "      <td>27</td>\n",
       "      <td>2001-05-01</td>\n",
       "      <td>114183002</td>\n",
       "      <td>None</td>\n",
       "      <td>POINT (57502 391938)</td>\n",
       "    </tr>\n",
       "    <tr>\n",
       "      <th>3</th>\n",
       "      <td>345</td>\n",
       "      <td>None</td>\n",
       "      <td>28</td>\n",
       "      <td>2001-05-01</td>\n",
       "      <td>114183002</td>\n",
       "      <td>None</td>\n",
       "      <td>POINT (57563 392018)</td>\n",
       "    </tr>\n",
       "    <tr>\n",
       "      <th>4</th>\n",
       "      <td>446</td>\n",
       "      <td>None</td>\n",
       "      <td>29</td>\n",
       "      <td>2001-05-01</td>\n",
       "      <td>114183002</td>\n",
       "      <td>None</td>\n",
       "      <td>POINT (57624 392098)</td>\n",
       "    </tr>\n",
       "  </tbody>\n",
       "</table>\n",
       "</div>"
      ],
      "text/plain": [
       "   AFSTAND DVK_LETTER  HECTOMTRNG  WVK_BEGDAT     WVK_ID ZIJDE  \\\n",
       "0       41       None          25  2001-05-01  114183002  None   \n",
       "1      143       None          26  2001-05-01  114183002  None   \n",
       "2      245       None          27  2001-05-01  114183002  None   \n",
       "3      345       None          28  2001-05-01  114183002  None   \n",
       "4      446       None          29  2001-05-01  114183002  None   \n",
       "\n",
       "               geometry  \n",
       "0  POINT (57378 391777)  \n",
       "1  POINT (57440 391858)  \n",
       "2  POINT (57502 391938)  \n",
       "3  POINT (57563 392018)  \n",
       "4  POINT (57624 392098)  "
      ]
     },
     "execution_count": 5,
     "metadata": {},
     "output_type": "execute_result"
    }
   ],
   "source": [
    "hecto_df = get_geodf(url_hecto, 'Hectopunten')\n",
    "hecto_df.head()"
   ]
  },
  {
   "cell_type": "markdown",
   "metadata": {},
   "source": [
    "### update the projection"
   ]
  },
  {
   "cell_type": "code",
   "execution_count": 6,
   "metadata": {
    "collapsed": false
   },
   "outputs": [],
   "source": [
    "hecto_df.crs['towgs84'] = '565.417,50.3319,465.552,-0.398957,0.343988,-1.8774,4.0725'"
   ]
  },
  {
   "cell_type": "code",
   "execution_count": 7,
   "metadata": {
    "collapsed": false
   },
   "outputs": [
    {
     "data": {
      "text/plain": [
       "{'ellps': 'bessel',\n",
       " 'k': 0.9999079,\n",
       " 'lat_0': 52.15616055555555,\n",
       " 'lon_0': 5.38763888888889,\n",
       " 'no_defs': True,\n",
       " 'proj': 'sterea',\n",
       " 'towgs84': '565.417,50.3319,465.552,-0.398957,0.343988,-1.8774,4.0725',\n",
       " 'units': 'm',\n",
       " 'x_0': 155000,\n",
       " 'y_0': 463000}"
      ]
     },
     "execution_count": 7,
     "metadata": {},
     "output_type": "execute_result"
    }
   ],
   "source": [
    "hecto_df.crs"
   ]
  },
  {
   "cell_type": "markdown",
   "metadata": {},
   "source": [
    "### change to projection to wgs84"
   ]
  },
  {
   "cell_type": "code",
   "execution_count": 8,
   "metadata": {
    "collapsed": false
   },
   "outputs": [],
   "source": [
    "hecto_df = hecto_df.to_crs(epsg=4326)"
   ]
  },
  {
   "cell_type": "markdown",
   "metadata": {},
   "source": [
    "### functions to get the longitude and latitude from the points"
   ]
  },
  {
   "cell_type": "code",
   "execution_count": 9,
   "metadata": {
    "collapsed": true
   },
   "outputs": [],
   "source": [
    "def getLon(x):\n",
    "    lon = x.coords.xy[0][0]\n",
    "    return lon"
   ]
  },
  {
   "cell_type": "code",
   "execution_count": 10,
   "metadata": {
    "collapsed": true
   },
   "outputs": [],
   "source": [
    "def getLat(x):\n",
    "    lat = x.coords.xy[1][0]\n",
    "    return lat"
   ]
  },
  {
   "cell_type": "markdown",
   "metadata": {},
   "source": [
    "### add longitude and latitude columns to the dataframe"
   ]
  },
  {
   "cell_type": "code",
   "execution_count": 11,
   "metadata": {
    "collapsed": true
   },
   "outputs": [],
   "source": [
    "hecto_df['LON'] = hecto_df.geometry.apply(lambda x: getLon(x))\n",
    "hecto_df['LAT'] = hecto_df.geometry.apply(lambda x: getLat(x))"
   ]
  },
  {
   "cell_type": "code",
   "execution_count": 12,
   "metadata": {
    "collapsed": false
   },
   "outputs": [
    {
     "data": {
      "text/html": [
       "<div>\n",
       "<table border=\"1\" class=\"dataframe\">\n",
       "  <thead>\n",
       "    <tr style=\"text-align: right;\">\n",
       "      <th></th>\n",
       "      <th>AFSTAND</th>\n",
       "      <th>DVK_LETTER</th>\n",
       "      <th>HECTOMTRNG</th>\n",
       "      <th>WVK_BEGDAT</th>\n",
       "      <th>WVK_ID</th>\n",
       "      <th>ZIJDE</th>\n",
       "      <th>geometry</th>\n",
       "      <th>LON</th>\n",
       "      <th>LAT</th>\n",
       "    </tr>\n",
       "  </thead>\n",
       "  <tbody>\n",
       "    <tr>\n",
       "      <th>0</th>\n",
       "      <td>41</td>\n",
       "      <td>None</td>\n",
       "      <td>25</td>\n",
       "      <td>2001-05-01</td>\n",
       "      <td>114183002</td>\n",
       "      <td>None</td>\n",
       "      <td>POINT (3.981023090864618 51.50653256283582)</td>\n",
       "      <td>3.981023</td>\n",
       "      <td>51.506533</td>\n",
       "    </tr>\n",
       "    <tr>\n",
       "      <th>1</th>\n",
       "      <td>143</td>\n",
       "      <td>None</td>\n",
       "      <td>26</td>\n",
       "      <td>2001-05-01</td>\n",
       "      <td>114183002</td>\n",
       "      <td>None</td>\n",
       "      <td>POINT (3.981893409350736 51.50727121263144)</td>\n",
       "      <td>3.981893</td>\n",
       "      <td>51.507271</td>\n",
       "    </tr>\n",
       "    <tr>\n",
       "      <th>2</th>\n",
       "      <td>245</td>\n",
       "      <td>None</td>\n",
       "      <td>27</td>\n",
       "      <td>2001-05-01</td>\n",
       "      <td>114183002</td>\n",
       "      <td>None</td>\n",
       "      <td>POINT (3.982764033592901 51.50800086955766)</td>\n",
       "      <td>3.982764</td>\n",
       "      <td>51.508001</td>\n",
       "    </tr>\n",
       "    <tr>\n",
       "      <th>3</th>\n",
       "      <td>345</td>\n",
       "      <td>None</td>\n",
       "      <td>28</td>\n",
       "      <td>2001-05-01</td>\n",
       "      <td>114183002</td>\n",
       "      <td>None</td>\n",
       "      <td>POINT (3.983620284828764 51.50873034697396)</td>\n",
       "      <td>3.983620</td>\n",
       "      <td>51.508730</td>\n",
       "    </tr>\n",
       "    <tr>\n",
       "      <th>4</th>\n",
       "      <td>446</td>\n",
       "      <td>None</td>\n",
       "      <td>29</td>\n",
       "      <td>2001-05-01</td>\n",
       "      <td>114183002</td>\n",
       "      <td>None</td>\n",
       "      <td>POINT (3.984476563485286 51.50945981817575)</td>\n",
       "      <td>3.984477</td>\n",
       "      <td>51.509460</td>\n",
       "    </tr>\n",
       "  </tbody>\n",
       "</table>\n",
       "</div>"
      ],
      "text/plain": [
       "   AFSTAND DVK_LETTER  HECTOMTRNG  WVK_BEGDAT     WVK_ID ZIJDE  \\\n",
       "0       41       None          25  2001-05-01  114183002  None   \n",
       "1      143       None          26  2001-05-01  114183002  None   \n",
       "2      245       None          27  2001-05-01  114183002  None   \n",
       "3      345       None          28  2001-05-01  114183002  None   \n",
       "4      446       None          29  2001-05-01  114183002  None   \n",
       "\n",
       "                                      geometry       LON        LAT  \n",
       "0  POINT (3.981023090864618 51.50653256283582)  3.981023  51.506533  \n",
       "1  POINT (3.981893409350736 51.50727121263144)  3.981893  51.507271  \n",
       "2  POINT (3.982764033592901 51.50800086955766)  3.982764  51.508001  \n",
       "3  POINT (3.983620284828764 51.50873034697396)  3.983620  51.508730  \n",
       "4  POINT (3.984476563485286 51.50945981817575)  3.984477  51.509460  "
      ]
     },
     "execution_count": 12,
     "metadata": {},
     "output_type": "execute_result"
    }
   ],
   "source": [
    "hecto_df.head()"
   ]
  },
  {
   "cell_type": "markdown",
   "metadata": {},
   "source": [
    "## get the maximum snelheid shapefile"
   ]
  },
  {
   "cell_type": "code",
   "execution_count": 13,
   "metadata": {
    "collapsed": false
   },
   "outputs": [
    {
     "data": {
      "text/html": [
       "<div>\n",
       "<table border=\"1\" class=\"dataframe\">\n",
       "  <thead>\n",
       "    <tr style=\"text-align: right;\">\n",
       "      <th></th>\n",
       "      <th>BEGAFSTAND</th>\n",
       "      <th>BEGINTIJD</th>\n",
       "      <th>EINDTIJD</th>\n",
       "      <th>ENDAFSTAND</th>\n",
       "      <th>FK_VELD1</th>\n",
       "      <th>FK_VELD4</th>\n",
       "      <th>IBN</th>\n",
       "      <th>IZI_SIDE</th>\n",
       "      <th>KANTCODE</th>\n",
       "      <th>MAX V</th>\n",
       "      <th>WVK_BEGDAT</th>\n",
       "      <th>WVK_ID</th>\n",
       "      <th>geometry</th>\n",
       "    </tr>\n",
       "  </thead>\n",
       "  <tbody>\n",
       "    <tr>\n",
       "      <th>0</th>\n",
       "      <td>0</td>\n",
       "      <td>NaN</td>\n",
       "      <td>NaN</td>\n",
       "      <td>55</td>\n",
       "      <td>037441901420141101</td>\n",
       "      <td>KLK0004032245</td>\n",
       "      <td>I</td>\n",
       "      <td>L</td>\n",
       "      <td>T</td>\n",
       "      <td>100</td>\n",
       "      <td>2014-11-01</td>\n",
       "      <td>374419014</td>\n",
       "      <td>LINESTRING (187237.911 509567.498, 187227.32 5...</td>\n",
       "    </tr>\n",
       "    <tr>\n",
       "      <th>1</th>\n",
       "      <td>0</td>\n",
       "      <td>NaN</td>\n",
       "      <td>NaN</td>\n",
       "      <td>906</td>\n",
       "      <td>037515600720141101</td>\n",
       "      <td>KLK0004042562</td>\n",
       "      <td>I</td>\n",
       "      <td>L</td>\n",
       "      <td>T</td>\n",
       "      <td>130</td>\n",
       "      <td>2014-11-01</td>\n",
       "      <td>375156007</td>\n",
       "      <td>LINESTRING (187742.046 378317.382, 187788 3782...</td>\n",
       "    </tr>\n",
       "    <tr>\n",
       "      <th>2</th>\n",
       "      <td>0</td>\n",
       "      <td>NaN</td>\n",
       "      <td>NaN</td>\n",
       "      <td>558</td>\n",
       "      <td>037515600920141101</td>\n",
       "      <td>KLK0004043479</td>\n",
       "      <td>I</td>\n",
       "      <td>R</td>\n",
       "      <td>H</td>\n",
       "      <td>130</td>\n",
       "      <td>2014-11-01</td>\n",
       "      <td>375156009</td>\n",
       "      <td>LINESTRING (187689.026 378302.559, 187754 3782...</td>\n",
       "    </tr>\n",
       "    <tr>\n",
       "      <th>3</th>\n",
       "      <td>0</td>\n",
       "      <td>NaN</td>\n",
       "      <td>NaN</td>\n",
       "      <td>48</td>\n",
       "      <td>037604301420141101</td>\n",
       "      <td>KLK0004058823</td>\n",
       "      <td>I</td>\n",
       "      <td>L</td>\n",
       "      <td>T</td>\n",
       "      <td>130</td>\n",
       "      <td>2014-11-01</td>\n",
       "      <td>376043014</td>\n",
       "      <td>LINESTRING (188435.397 321505.252, 188481.384 ...</td>\n",
       "    </tr>\n",
       "    <tr>\n",
       "      <th>4</th>\n",
       "      <td>0</td>\n",
       "      <td>19.0</td>\n",
       "      <td>6.0</td>\n",
       "      <td>179</td>\n",
       "      <td>041934401720141101</td>\n",
       "      <td>KLK0003910540</td>\n",
       "      <td>I</td>\n",
       "      <td>R</td>\n",
       "      <td>H</td>\n",
       "      <td>130</td>\n",
       "      <td>2014-11-01</td>\n",
       "      <td>419344017</td>\n",
       "      <td>LINESTRING (209871.068 472138.01, 210048.297 4...</td>\n",
       "    </tr>\n",
       "  </tbody>\n",
       "</table>\n",
       "</div>"
      ],
      "text/plain": [
       "   BEGAFSTAND  BEGINTIJD  EINDTIJD  ENDAFSTAND            FK_VELD1  \\\n",
       "0           0        NaN       NaN          55  037441901420141101   \n",
       "1           0        NaN       NaN         906  037515600720141101   \n",
       "2           0        NaN       NaN         558  037515600920141101   \n",
       "3           0        NaN       NaN          48  037604301420141101   \n",
       "4           0       19.0       6.0         179  041934401720141101   \n",
       "\n",
       "        FK_VELD4 IBN IZI_SIDE KANTCODE  MAX V  WVK_BEGDAT     WVK_ID  \\\n",
       "0  KLK0004032245   I        L        T    100  2014-11-01  374419014   \n",
       "1  KLK0004042562   I        L        T    130  2014-11-01  375156007   \n",
       "2  KLK0004043479   I        R        H    130  2014-11-01  375156009   \n",
       "3  KLK0004058823   I        L        T    130  2014-11-01  376043014   \n",
       "4  KLK0003910540   I        R        H    130  2014-11-01  419344017   \n",
       "\n",
       "                                            geometry  \n",
       "0  LINESTRING (187237.911 509567.498, 187227.32 5...  \n",
       "1  LINESTRING (187742.046 378317.382, 187788 3782...  \n",
       "2  LINESTRING (187689.026 378302.559, 187754 3782...  \n",
       "3  LINESTRING (188435.397 321505.252, 188481.384 ...  \n",
       "4  LINESTRING (209871.068 472138.01, 210048.297 4...  "
      ]
     },
     "execution_count": 13,
     "metadata": {},
     "output_type": "execute_result"
    }
   ],
   "source": [
    "max_speed_df = get_geodf(url_max_speed, 'max_snelheden')\n",
    "max_speed_df.rename(columns={'OMSCHR': 'MAX V'}, inplace=True)\n",
    "max_speed_df.head()"
   ]
  },
  {
   "cell_type": "markdown",
   "metadata": {},
   "source": [
    "## get the inhaalverbod shapefile"
   ]
  },
  {
   "cell_type": "code",
   "execution_count": 14,
   "metadata": {
    "collapsed": false
   },
   "outputs": [
    {
     "data": {
      "text/html": [
       "<div>\n",
       "<table border=\"1\" class=\"dataframe\">\n",
       "  <thead>\n",
       "    <tr style=\"text-align: right;\">\n",
       "      <th></th>\n",
       "      <th>BEGAFSTAND</th>\n",
       "      <th>ENDAFSTAND</th>\n",
       "      <th>FK_VELD1</th>\n",
       "      <th>FK_VELD4</th>\n",
       "      <th>IBN</th>\n",
       "      <th>IZI_SIDE</th>\n",
       "      <th>KANTCODE</th>\n",
       "      <th>VERBOD</th>\n",
       "      <th>WVK_BEGDAT</th>\n",
       "      <th>WVK_ID</th>\n",
       "      <th>geometry</th>\n",
       "    </tr>\n",
       "  </thead>\n",
       "  <tbody>\n",
       "    <tr>\n",
       "      <th>0</th>\n",
       "      <td>0</td>\n",
       "      <td>1949</td>\n",
       "      <td>040053000720141101</td>\n",
       "      <td>KLK0004303896</td>\n",
       "      <td>I</td>\n",
       "      <td>R</td>\n",
       "      <td>H</td>\n",
       "      <td>06 - 10 u. en 15 - 19 u. (vrachtauto's)</td>\n",
       "      <td>2014-11-01</td>\n",
       "      <td>400530007</td>\n",
       "      <td>LINESTRING (200260.276 565269.461, 200314 5653...</td>\n",
       "    </tr>\n",
       "    <tr>\n",
       "      <th>1</th>\n",
       "      <td>0</td>\n",
       "      <td>524</td>\n",
       "      <td>042944402720141101</td>\n",
       "      <td>KLK0004622733</td>\n",
       "      <td>I</td>\n",
       "      <td>L</td>\n",
       "      <td>T</td>\n",
       "      <td>06 - 19 u. (vrachtauto's)</td>\n",
       "      <td>2014-11-01</td>\n",
       "      <td>429444027</td>\n",
       "      <td>LINESTRING (214661.624 522281.058, 214687 5222...</td>\n",
       "    </tr>\n",
       "    <tr>\n",
       "      <th>2</th>\n",
       "      <td>0</td>\n",
       "      <td>459</td>\n",
       "      <td>043044400720141101</td>\n",
       "      <td>KLK0004622732</td>\n",
       "      <td>I</td>\n",
       "      <td>R</td>\n",
       "      <td>H</td>\n",
       "      <td>06 - 19 u. (vrachtauto's)</td>\n",
       "      <td>2014-11-01</td>\n",
       "      <td>430444007</td>\n",
       "      <td>LINESTRING (215166.382 522158.655, 215325 5221...</td>\n",
       "    </tr>\n",
       "    <tr>\n",
       "      <th>3</th>\n",
       "      <td>0</td>\n",
       "      <td>775</td>\n",
       "      <td>043055000620141101</td>\n",
       "      <td>KLK0004542102</td>\n",
       "      <td>I</td>\n",
       "      <td>R</td>\n",
       "      <td>H</td>\n",
       "      <td>06 - 10 u. en 15 - 19 u. (vrachtauto's)</td>\n",
       "      <td>2014-11-01</td>\n",
       "      <td>430550006</td>\n",
       "      <td>LINESTRING (215324.65 575263.1949999999, 21548...</td>\n",
       "    </tr>\n",
       "    <tr>\n",
       "      <th>4</th>\n",
       "      <td>0</td>\n",
       "      <td>398</td>\n",
       "      <td>012721700820141101</td>\n",
       "      <td>KLK0004510125</td>\n",
       "      <td>I</td>\n",
       "      <td>R</td>\n",
       "      <td>H</td>\n",
       "      <td>00 - 24 u. (algemeen verbod)</td>\n",
       "      <td>2014-11-01</td>\n",
       "      <td>127217008</td>\n",
       "      <td>LINESTRING (63945.835 408593.274, 64096 408606...</td>\n",
       "    </tr>\n",
       "  </tbody>\n",
       "</table>\n",
       "</div>"
      ],
      "text/plain": [
       "   BEGAFSTAND  ENDAFSTAND            FK_VELD1       FK_VELD4 IBN IZI_SIDE  \\\n",
       "0           0        1949  040053000720141101  KLK0004303896   I        R   \n",
       "1           0         524  042944402720141101  KLK0004622733   I        L   \n",
       "2           0         459  043044400720141101  KLK0004622732   I        R   \n",
       "3           0         775  043055000620141101  KLK0004542102   I        R   \n",
       "4           0         398  012721700820141101  KLK0004510125   I        R   \n",
       "\n",
       "  KANTCODE                                   VERBOD  WVK_BEGDAT     WVK_ID  \\\n",
       "0        H  06 - 10 u. en 15 - 19 u. (vrachtauto's)  2014-11-01  400530007   \n",
       "1        T                06 - 19 u. (vrachtauto's)  2014-11-01  429444027   \n",
       "2        H                06 - 19 u. (vrachtauto's)  2014-11-01  430444007   \n",
       "3        H  06 - 10 u. en 15 - 19 u. (vrachtauto's)  2014-11-01  430550006   \n",
       "4        H             00 - 24 u. (algemeen verbod)  2014-11-01  127217008   \n",
       "\n",
       "                                            geometry  \n",
       "0  LINESTRING (200260.276 565269.461, 200314 5653...  \n",
       "1  LINESTRING (214661.624 522281.058, 214687 5222...  \n",
       "2  LINESTRING (215166.382 522158.655, 215325 5221...  \n",
       "3  LINESTRING (215324.65 575263.1949999999, 21548...  \n",
       "4  LINESTRING (63945.835 408593.274, 64096 408606...  "
      ]
     },
     "execution_count": 14,
     "metadata": {},
     "output_type": "execute_result"
    }
   ],
   "source": [
    "inhaalverbod_df = get_geodf(url_inhaalverboden, 'inhaalverboden')\n",
    "inhaalverbod_df.rename(columns={'OMSCHR':'VERBOD'}, inplace=True)\n",
    "inhaalverbod_df.head()"
   ]
  },
  {
   "cell_type": "markdown",
   "metadata": {},
   "source": [
    "## join all the dataframes on the WVK_ID column"
   ]
  },
  {
   "cell_type": "code",
   "execution_count": 15,
   "metadata": {
    "collapsed": false
   },
   "outputs": [],
   "source": [
    "df = hecto_df.merge(max_speed_df, how='left', on='WVK_ID', suffixes=('', '_ms')).merge(inhaalverbod_df, how='left', on='WVK_ID', suffixes=('', '_iv'))"
   ]
  },
  {
   "cell_type": "markdown",
   "metadata": {},
   "source": [
    "## select the columns and write to csv"
   ]
  },
  {
   "cell_type": "code",
   "execution_count": 16,
   "metadata": {
    "collapsed": false
   },
   "outputs": [
    {
     "data": {
      "text/plain": [
       "Index(['AFSTAND', 'DVK_LETTER', 'HECTOMTRNG', 'WVK_BEGDAT', 'WVK_ID', 'ZIJDE',\n",
       "       'geometry', 'LON', 'LAT', 'BEGAFSTAND', 'BEGINTIJD', 'EINDTIJD',\n",
       "       'ENDAFSTAND', 'FK_VELD1', 'FK_VELD4', 'IBN', 'IZI_SIDE', 'KANTCODE',\n",
       "       'MAX V', 'WVK_BEGDAT_ms', 'geometry_ms', 'BEGAFSTAND_iv',\n",
       "       'ENDAFSTAND_iv', 'FK_VELD1_iv', 'FK_VELD4_iv', 'IBN_iv', 'IZI_SIDE_iv',\n",
       "       'KANTCODE_iv', 'VERBOD', 'WVK_BEGDAT_iv', 'geometry_iv'],\n",
       "      dtype='object')"
      ]
     },
     "execution_count": 16,
     "metadata": {},
     "output_type": "execute_result"
    }
   ],
   "source": [
    "df.columns"
   ]
  },
  {
   "cell_type": "code",
   "execution_count": 17,
   "metadata": {
    "collapsed": true
   },
   "outputs": [],
   "source": [
    "cols = ['LAT', 'LON', 'DVK_LETTER', 'HECTOMTRNG', 'ZIJDE', 'MAX V', 'VERBOD']"
   ]
  },
  {
   "cell_type": "code",
   "execution_count": 18,
   "metadata": {
    "collapsed": false
   },
   "outputs": [],
   "source": [
    "df[cols].to_csv('ruudsAwesomeHectomterBestand.csv')"
   ]
  }
 ],
 "metadata": {
  "kernelspec": {
   "display_name": "Python 3",
   "language": "python",
   "name": "python3"
  },
  "language_info": {
   "codemirror_mode": {
    "name": "ipython",
    "version": 3
   },
   "file_extension": ".py",
   "mimetype": "text/x-python",
   "name": "python",
   "nbconvert_exporter": "python",
   "pygments_lexer": "ipython3",
   "version": "3.6.0"
  }
 },
 "nbformat": 4,
 "nbformat_minor": 2
}
